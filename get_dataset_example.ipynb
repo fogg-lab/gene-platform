{
  "nbformat": 4,
  "nbformat_minor": 0,
  "metadata": {
    "colab": {
      "provenance": [],
      "authorship_tag": "ABX9TyPb845q3T/15b7Gq69xWjfW",
      "include_colab_link": true
    },
    "kernelspec": {
      "name": "python3",
      "display_name": "Python 3"
    },
    "language_info": {
      "name": "python"
    }
  },
  "cells": [
    {
      "cell_type": "markdown",
      "metadata": {
        "id": "view-in-github",
        "colab_type": "text"
      },
      "source": [
        "<a href=\"https://colab.research.google.com/github/fogg-lab/gene-platform/blob/main/get_dataset_example.ipynb\" target=\"_parent\"><img src=\"https://colab.research.google.com/assets/colab-badge.svg\" alt=\"Open In Colab\"/></a>"
      ]
    },
    {
      "cell_type": "markdown",
      "source": [
        "# Run this to get a specific dataset"
      ],
      "metadata": {
        "id": "zyMoz411GxzQ"
      }
    },
    {
      "cell_type": "code",
      "source": [
        "# Change source and project as needed\n",
        "SOURCE = \"GDC\"\n",
        "PROJECT = \"CGCI-HTMCP-DLBCL\""
      ],
      "metadata": {
        "id": "ygr_htgFG-Kw"
      },
      "execution_count": 1,
      "outputs": []
    },
    {
      "cell_type": "code",
      "source": [
        "import pandas as pd\n",
        "import numpy as np\n",
        "import gzip\n",
        "\n",
        "base_url = \"https://docgl1or94tw4.cloudfront.net/curated-bulk-rnaseq-gene-expression\"\n",
        "counts_url = f\"{base_url}/{SOURCE}/expression/{PROJECT}.npy.gz\"\n",
        "coldata_url = f\"{base_url}/{SOURCE}/coldata/{PROJECT}.csv.gz\"\n",
        "genes_url = f\"{base_url}/{SOURCE}/genes/{PROJECT}.csv.gz\"\n",
        "\n",
        "!curl -o \"{PROJECT}_counts.npy.gz\" {counts_url}\n",
        "!curl -o \"{PROJECT}_coldata.csv.gz\" {coldata_url}\n",
        "!curl -o \"{PROJECT}_genes.csv.gz\" {genes_url}\n",
        "\n",
        "coldata_df = pd.read_csv(f\"{PROJECT}_coldata.csv.gz\", index_col=0)\n",
        "genes_df = pd.read_csv(f\"{PROJECT}_genes.csv.gz\")\n",
        "with gzip.open(f\"{PROJECT}_counts.npy.gz\", \"rb\") as f:\n",
        "    counts_df = pd.DataFrame(\n",
        "        data = np.load(f).reshape(len(coldata_df), len(genes_df)).T,\n",
        "        index = genes_df[\"symbol\"],\n",
        "        columns = coldata_df.index,\n",
        "    )\n",
        "\n",
        "coldata_df.to_csv(f\"processed_coldata\")\n",
        "\n",
        "counts_df.to_csv(f\"{PROJECT}_processed_counts.csv\")\n",
        "coldata_df.to_csv(f\"{PROJECT}_processed_coldata.csv\")"
      ],
      "metadata": {
        "colab": {
          "base_uri": "https://localhost:8080/"
        },
        "id": "DXAGw9aVGwPr",
        "outputId": "901321a7-80e1-444d-ef04-f314d64cb667"
      },
      "execution_count": 2,
      "outputs": [
        {
          "output_type": "stream",
          "name": "stdout",
          "text": [
            "  % Total    % Received % Xferd  Average Speed   Time    Time     Time  Current\n",
            "                                 Dload  Upload   Total   Spent    Left  Speed\n",
            "100 1812k  100 1812k    0     0  2795k      0 --:--:-- --:--:-- --:--:-- 2792k\n",
            "  % Total    % Received % Xferd  Average Speed   Time    Time     Time  Current\n",
            "                                 Dload  Upload   Total   Spent    Left  Speed\n",
            "100 12017  100 12017    0     0  22549      0 --:--:-- --:--:-- --:--:-- 22588\n",
            "  % Total    % Received % Xferd  Average Speed   Time    Time     Time  Current\n",
            "                                 Dload  Upload   Total   Spent    Left  Speed\n",
            "100  224k  100  224k    0     0   524k      0 --:--:-- --:--:-- --:--:--  525k\n"
          ]
        }
      ]
    },
    {
      "cell_type": "code",
      "source": [],
      "metadata": {
        "id": "mOYKxv6rHO2N"
      },
      "execution_count": null,
      "outputs": []
    }
  ]
}